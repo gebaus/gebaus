{
  "nbformat": 4,
  "nbformat_minor": 0,
  "metadata": {
    "colab": {
      "provenance": [],
      "authorship_tag": "ABX9TyO1gSxQqIQTJ3pA2Bzbx66p",
      "include_colab_link": true
    },
    "kernelspec": {
      "name": "python3",
      "display_name": "Python 3"
    },
    "language_info": {
      "name": "python"
    }
  },
  "cells": [
    {
      "cell_type": "markdown",
      "metadata": {
        "id": "view-in-github",
        "colab_type": "text"
      },
      "source": [
        "<a href=\"https://colab.research.google.com/github/gebaus/gebaus/blob/main/ARKEA3.ipynb\" target=\"_parent\"><img src=\"https://colab.research.google.com/assets/colab-badge.svg\" alt=\"Open In Colab\"/></a>"
      ]
    },
    {
      "cell_type": "code",
      "source": [
        "!pip install basemap"
      ],
      "metadata": {
        "colab": {
          "base_uri": "https://localhost:8080/",
          "height": 516
        },
        "id": "XDd6wnYl3twV",
        "outputId": "deea4b82-4fe5-4e13-d2a1-e8a08f0fc38a"
      },
      "execution_count": 1,
      "outputs": [
        {
          "output_type": "stream",
          "name": "stdout",
          "text": [
            "Collecting basemap\n",
            "  Downloading basemap-1.4.0-cp310-cp310-manylinux1_x86_64.whl (935 kB)\n",
            "\u001b[2K     \u001b[90m━━━━━━━━━━━━━━━━━━━━━━━━━━━━━━━━━━━━━━━━\u001b[0m \u001b[32m935.8/935.8 kB\u001b[0m \u001b[31m7.5 MB/s\u001b[0m eta \u001b[36m0:00:00\u001b[0m\n",
            "\u001b[?25hCollecting basemap-data<1.4,>=1.3.2 (from basemap)\n",
            "  Downloading basemap_data-1.3.2-py2.py3-none-any.whl (30.5 MB)\n",
            "\u001b[2K     \u001b[90m━━━━━━━━━━━━━━━━━━━━━━━━━━━━━━━━━━━━━━━━\u001b[0m \u001b[32m30.5/30.5 MB\u001b[0m \u001b[31m39.6 MB/s\u001b[0m eta \u001b[36m0:00:00\u001b[0m\n",
            "\u001b[?25hRequirement already satisfied: pyshp<2.4,>=1.2 in /usr/local/lib/python3.10/dist-packages (from basemap) (2.3.1)\n",
            "Requirement already satisfied: matplotlib<3.9,>=1.5 in /usr/local/lib/python3.10/dist-packages (from basemap) (3.7.1)\n",
            "Requirement already satisfied: pyproj<3.7.0,>=1.9.3 in /usr/local/lib/python3.10/dist-packages (from basemap) (3.6.1)\n",
            "Requirement already satisfied: packaging<24.0,>=16.0 in /usr/local/lib/python3.10/dist-packages (from basemap) (23.2)\n",
            "Requirement already satisfied: numpy<1.27,>=1.21 in /usr/local/lib/python3.10/dist-packages (from basemap) (1.23.5)\n",
            "Requirement already satisfied: contourpy>=1.0.1 in /usr/local/lib/python3.10/dist-packages (from matplotlib<3.9,>=1.5->basemap) (1.2.0)\n",
            "Requirement already satisfied: cycler>=0.10 in /usr/local/lib/python3.10/dist-packages (from matplotlib<3.9,>=1.5->basemap) (0.12.1)\n",
            "Requirement already satisfied: fonttools>=4.22.0 in /usr/local/lib/python3.10/dist-packages (from matplotlib<3.9,>=1.5->basemap) (4.47.2)\n",
            "Requirement already satisfied: kiwisolver>=1.0.1 in /usr/local/lib/python3.10/dist-packages (from matplotlib<3.9,>=1.5->basemap) (1.4.5)\n",
            "Requirement already satisfied: pillow>=6.2.0 in /usr/local/lib/python3.10/dist-packages (from matplotlib<3.9,>=1.5->basemap) (9.4.0)\n",
            "Requirement already satisfied: pyparsing>=2.3.1 in /usr/local/lib/python3.10/dist-packages (from matplotlib<3.9,>=1.5->basemap) (3.1.1)\n",
            "Requirement already satisfied: python-dateutil>=2.7 in /usr/local/lib/python3.10/dist-packages (from matplotlib<3.9,>=1.5->basemap) (2.8.2)\n",
            "Requirement already satisfied: certifi in /usr/local/lib/python3.10/dist-packages (from pyproj<3.7.0,>=1.9.3->basemap) (2024.2.2)\n",
            "Requirement already satisfied: six>=1.5 in /usr/local/lib/python3.10/dist-packages (from python-dateutil>=2.7->matplotlib<3.9,>=1.5->basemap) (1.16.0)\n",
            "Installing collected packages: basemap-data, basemap\n",
            "Successfully installed basemap-1.4.0 basemap-data-1.3.2\n"
          ]
        },
        {
          "output_type": "display_data",
          "data": {
            "application/vnd.colab-display-data+json": {
              "pip_warning": {
                "packages": [
                  "mpl_toolkits"
                ]
              }
            }
          },
          "metadata": {}
        }
      ]
    },
    {
      "cell_type": "code",
      "source": [
        "import pygrib\n",
        "import pandas as pd\n",
        "import numpy as np\n",
        "from matplotlib import pyplot as plt\n",
        "\n",
        "chemin_fichier_grib2 = 'GFS 56km_22_01_2024_18h.grib2'\n",
        "\n",
        "with pygrib.open(chemin_fichier_grib2) as grbs:\n",
        "  print(\"\\n1/ Print a few grid messages : \")\n",
        "  for grb in grbs[1:4]:\n",
        "    print(grb)"
      ],
      "metadata": {
        "colab": {
          "base_uri": "https://localhost:8080/",
          "height": 385
        },
        "id": "af9sLgnJj0Hv",
        "outputId": "9f4ea59a-c89e-453a-8662-906d61be3628"
      },
      "execution_count": 4,
      "outputs": [
        {
          "output_type": "error",
          "ename": "ModuleNotFoundError",
          "evalue": "No module named 'pygrib'",
          "traceback": [
            "\u001b[0;31m---------------------------------------------------------------------------\u001b[0m",
            "\u001b[0;31mModuleNotFoundError\u001b[0m                       Traceback (most recent call last)",
            "\u001b[0;32m<ipython-input-4-55a8771dcc5b>\u001b[0m in \u001b[0;36m<cell line: 1>\u001b[0;34m()\u001b[0m\n\u001b[0;32m----> 1\u001b[0;31m \u001b[0;32mimport\u001b[0m \u001b[0mpygrib\u001b[0m\u001b[0;34m\u001b[0m\u001b[0;34m\u001b[0m\u001b[0m\n\u001b[0m\u001b[1;32m      2\u001b[0m \u001b[0;32mimport\u001b[0m \u001b[0mpandas\u001b[0m \u001b[0;32mas\u001b[0m \u001b[0mpd\u001b[0m\u001b[0;34m\u001b[0m\u001b[0;34m\u001b[0m\u001b[0m\n\u001b[1;32m      3\u001b[0m \u001b[0;32mimport\u001b[0m \u001b[0mnumpy\u001b[0m \u001b[0;32mas\u001b[0m \u001b[0mnp\u001b[0m\u001b[0;34m\u001b[0m\u001b[0;34m\u001b[0m\u001b[0m\n\u001b[1;32m      4\u001b[0m \u001b[0;32mfrom\u001b[0m \u001b[0mmatplotlib\u001b[0m \u001b[0;32mimport\u001b[0m \u001b[0mpyplot\u001b[0m \u001b[0;32mas\u001b[0m \u001b[0mplt\u001b[0m\u001b[0;34m\u001b[0m\u001b[0;34m\u001b[0m\u001b[0m\n\u001b[1;32m      5\u001b[0m \u001b[0;34m\u001b[0m\u001b[0m\n",
            "\u001b[0;31mModuleNotFoundError\u001b[0m: No module named 'pygrib'",
            "",
            "\u001b[0;31m---------------------------------------------------------------------------\u001b[0;32m\nNOTE: If your import is failing due to a missing package, you can\nmanually install dependencies using either !pip or !apt.\n\nTo view examples of installing some common dependencies, click the\n\"Open Examples\" button below.\n\u001b[0;31m---------------------------------------------------------------------------\u001b[0m\n"
          ],
          "errorDetails": {
            "actions": [
              {
                "action": "open_url",
                "actionText": "Open Examples",
                "url": "/notebooks/snippets/importing_libraries.ipynb"
              }
            ]
          }
        }
      ]
    },
    {
      "cell_type": "code",
      "source": [
        "import pygrib\n",
        "import pandas as pd\n",
        "import numpy as np\n",
        "from matplotlib import pyplot as plt\n",
        "\n",
        "chemin_fichier_grib2 = 'GFS 56km_22_01_2024_18h.grib2'\n",
        "\n",
        "with pygrib.open(chemin_fichier_grib2) as grbs:\n",
        "  print(\"\\n2/ Extract grids of '10 metre U wind component' and print a few messages :\")\n",
        "  subgrbs2 = grbs.select(name='10 metre U wind component')\n",
        "  for grb2 in subgrbs2[0:5]:\n",
        "    print(grb2)"
      ],
      "metadata": {
        "id": "GCh3wCEZkPJN"
      },
      "execution_count": null,
      "outputs": []
    },
    {
      "cell_type": "code",
      "source": [
        "import pygrib\n",
        "import pandas as pd\n",
        "import numpy as np\n",
        "from matplotlib import pyplot as plt\n",
        "\n",
        "chemin_fichier_grib2 = 'GFS 56km_22_01_2024_18h.grib2'\n",
        "\n",
        "with pygrib.open(chemin_fichier_grib2) as grbs:\n",
        "  print(\"\\n3/ List availables grid nature and number of grids :\")\n",
        "  newList = []\n",
        "  for i in grbs.read():\n",
        "    newList.append(str(i).split(':')[1])\n",
        "  df = pd.DataFrame({'grid nature':newList})\n",
        "  out = df.groupby(['grid nature'])['grid nature'].count().reset_index(name='number of grids')\n",
        "  print(out.to_string(index=False))"
      ],
      "metadata": {
        "id": "CnZ9ixzetyCy"
      },
      "execution_count": null,
      "outputs": []
    },
    {
      "cell_type": "code",
      "source": [
        "import pygrib\n",
        "import pandas as pd\n",
        "import numpy as np\n",
        "from matplotlib import pyplot as plt\n",
        "\n",
        "chemin_fichier_grib2 = 'GFS 56km_22_01_2024_18h.grib2'\n",
        "\n",
        "with pygrib.open(chemin_fichier_grib2) as grbs:\n",
        "    print(\"\\n\\n=> => Playing now with 1st grid !\\n\")\n",
        "    grb = grbs.read(1)[0]\n",
        "\n",
        "    print(\"\\n4/ Print a few keys of this grid : \")\n",
        "\n",
        "    print(\"\\t totalLength = \", grb['totalLength'])\n",
        "    print(\"\\t dataTime = \", grb['dataTime'])\n",
        "    print(\"\\t numberOfDataPoints = \", grb['numberOfDataPoints'])\n",
        "    print(\"\\t latitudeOfFirstGridPoint = \", grb['latitudeOfLastGridPointInDegrees'])\n",
        "    print(\"\\t latitudeOfLastGridPoint = \", grb['latitudeOfLastGridPoint'])\n",
        "    print(\"\\t longitudeOfFirstGridPoint = \", grb['longitudeOfFirstGridPoint'])\n",
        "    print(\"\\t longitudeOfLastGridPoint = \", grb['longitudeOfLastGridPoint'])\n",
        "\n",
        "    print(\"\\t latitudeOfFirstGridPointInDegrees = \", grb['latitudeOfFirstGridPointInDegrees'])\n",
        "    print(\"\\t latitudeOfLastGridPointInDegrees = \", grb['latitudeOfLastGridPointInDegrees'])\n",
        "    print(\"\\t longitudeOfFirstGridPointInDegrees = \", grb['longitudeOfFirstGridPointInDegrees'])\n",
        "    print(\"\\t longitudeOfLastGridPointInDegrees = \", grb['longitudeOfLastGridPointInDegrees'])\n",
        "    print(\"\\t iDirectionIncrementInDegrees = \", grb['iDirectionIncrementInDegrees'])\n",
        "    print(\"\\t jDirectionIncrementInDegrees = \", grb['jDirectionIncrementInDegrees'])\n",
        "\n",
        "    print(\"\\t parameterName = \", grb['parameterName'])\n",
        "    print(\"\\t parameterUnits = \", grb['parameterUnits'])\n",
        "    print(\"\\t gridType = \", grb['gridType'])\n",
        "    print(\"\\t distinctLatitudes = \", grb['distinctLatitudes'])\n",
        "    print(\"\\t len(distinctLatitudes) = \", len(grb['distinctLatitudes']))\n",
        "    print(\"\\t distinctLongitudes = \", grb['distinctLongitudes'])\n",
        "    print(\"\\t len(distinctLongitudes) = \", len(grb['distinctLongitudes']))"
      ],
      "metadata": {
        "id": "OhSzPohlvo5_"
      },
      "execution_count": null,
      "outputs": []
    },
    {
      "cell_type": "code",
      "source": [
        "    print(\"\\n5/ Print grid data properties : \")\n",
        "    print(\"the dataset contains \" + str(len(grb.data())) + \" \" + str(type(grb.data())))\n",
        "    print(\"the 1st elemtent is a \" + str(type(grb.data()[0])) + \" wich size is \" + str(grb.data()[0].shape))\n",
        "    print(\"the 2nd elemtent is a \" + str(type(grb.data()[1])) + \" wich size is \" + str(grb.data()[1].shape))\n",
        "    print(\"the 3rd elemtent is a \" + str(type(grb.data()[2])) + \" wich size is \" + str(grb.data()[2].shape))\n",
        "    lats, lons = grb.latlons()\n",
        "    print(\"Latitude min = \" + str(lats.min()))\n",
        "    print(\"Latitude max = \" + str(lats.max()))\n",
        "    print(\"Longitude min = \" + str(lons.min()))\n",
        "    print(\"Longitude min = \" + str(lons.max()))"
      ],
      "metadata": {
        "id": "YSrvS3QxxR0f"
      },
      "execution_count": null,
      "outputs": []
    },
    {
      "cell_type": "code",
      "source": [
        "    print(\"\\n6/ Print grid data : \")\n",
        "    print(\"data at lat 0. and long 0. = \" + str(grb.data(lat1=0.,lon1=0.,lat2=0.,lon2=0.)[0]))\n",
        "    print(\"data at lat 0.5 and long 0. = \" + str(grb.data(lat1=0.5,lon1=0.,lat2=0.5,lon2=0.)[0]))\n",
        "    print(\"data at lat 0. and long 0.5 = \" + str(grb.data(lat1=0,lon1=0.5,lat2=0,lon2=0.5)[0]))\n",
        "    print(\"data at lat 0.5 and long 0.5 = \" + str(grb.data(lat1=0.5,lon1=0.5,lat2=0.5,lon2=0.5)[0]))\n",
        "    print(\"data at lat 0.25 and long 0.25 = \" + str(grb.data(lat1=0.25,lon1=0.25,lat2=0.01,lon2=0.01)[0]))\n",
        "    print(\"data at lat -7.52 and long 42.42 = \" + str(grb.data(lat1=-7.52,lon1=42.42,lat2=-7.52,lon2=42.42)[0]))"
      ],
      "metadata": {
        "id": "bv3R002hyTdU"
      },
      "execution_count": null,
      "outputs": []
    },
    {
      "cell_type": "code",
      "source": [
        "def getval(grb, lat, lon):\n",
        "\n",
        "    np_lat = np.flip(grb['distinctLatitudes'], 0)\n",
        "    #print(np_lat)\n",
        "    if lat < np_lat[0]:\n",
        "        print(\"Error : Latitude out of range\")\n",
        "    elif lat > np_lat[len(np_lat)-1]:\n",
        "        print(\"Error : Latitude out of range\")\n",
        "    else:\n",
        "        for i in range(0, len(np_lat)-1):\n",
        "            if lat >= np_lat[i]:\n",
        "                lat_0 = np_lat[i]\n",
        "                lat_1 = np_lat[i+1]\n",
        "\n",
        "    np_lon = grb['distinctLongitudes']\n",
        "    if lon < np_lon[0]:\n",
        "        print(\"Error : Longitude out of range\")\n",
        "    elif lon > np_lon[len(np_lon)-1]:\n",
        "        print(\"Error : Longitude out of range\")\n",
        "    else:\n",
        "        for i in range(0, len(np_lon)-1):\n",
        "            if lon >= np_lon[i]:\n",
        "                lon_0 = np_lon[i]\n",
        "                lon_1 = np_lon[i+1]\n",
        "\n",
        "    #print(\"lat_0 = \" + str(lat_0))\n",
        "    #print(\"lat_1 = \" + str(lat_1))\n",
        "    #print(\"lon_0 = \" + str(lon_0))\n",
        "    #print(\"lon_1 = \" + str(lon_1))\n",
        "    #print(\"Point x0y0 \" + str(grb.data(lat1=lat_0,lon1=lon_0,lat2=lat_0,lon2=lon_0)[0]))\n",
        "    #print(\"Point x0y1 \" + str(grb.data(lat1=lat_0,lon1=lon_1,lat2=lat_0,lon2=lon_1)[0]))\n",
        "    #print(\"Point x1y0 \" + str(grb.data(lat1=lat_1,lon1=lon_0,lat2=lat_1,lon2=lon_0)[0]))\n",
        "    #print(\"Point x1y1 \" + str(grb.data(lat1=lat_1,lon1=lon_1,lat2=lat_1,lon2=lon_1)[0]))\n",
        "        # https://fr.wikipedia.org/wiki/Interpolation_bilin%C3%A9aire\n",
        "    dx = lat - lat_0\n",
        "    dy = lon - lon_0\n",
        "    d_x = lat_1 - lat_0\n",
        "    d_y = lon_1 - lon_0\n",
        "    df_x = grb.data(lat1=lat_1,lon1=lon_0,lat2=lat_1,lon2=lon_0)[0] \\\n",
        "        - grb.data(lat1=lat_0,lon1=lon_0,lat2=lat_0,lon2=lon_0)[0]\n",
        "    df_y = grb.data(lat1=lat_0,lon1=lon_1,lat2=lat_0,lon2=lon_1)[0] \\\n",
        "        - grb.data(lat1=lat_0,lon1=lon_0,lat2=lat_0,lon2=lon_0)[0]\n",
        "    df_xy = grb.data(lat1=lat_0,lon1=lon_0,lat2=lat_0,lon2=lon_0)[0] \\\n",
        "        + grb.data(lat1=lat_1,lon1=lon_1,lat2=lat_1,lon2=lon_1)[0] \\\n",
        "        - grb.data(lat1=lat_1,lon1=lon_0,lat2=lat_1,lon2=lon_0)[0] \\\n",
        "        - grb.data(lat1=lat_0,lon1=lon_1,lat2=lat_0,lon2=lon_1)[0]\n",
        "    df_x = df_x.sum(0).sum(0)\n",
        "    df_y = df_y.sum(0).sum(0)\n",
        "    df_xy = df_xy.sum(0).sum(0)\n",
        "    res = df_x * dx / d_x + df_y * dy / d_y + df_xy * dx * dy / (d_x * d_y) \\\n",
        "        + grb.data(lat1=lat_0,lon1=lon_0,lat2=lat_0,lon2=lon_0)[0].sum(0).sum(0)\n",
        "\n",
        "    return res\n",
        "\n",
        "with pygrib.open(chemin_fichier_grib2) as grbs:\n",
        "    grb = grbs.read(1)[0]\n",
        "    print(\"\\n7/ Testing interpolation : \")\n",
        "\n",
        "    print(\"data at lat 0. and long 0. = \" + str(getval(grb, 0., 0.)))\n",
        "    print(\"data at lat 0.5 and long 0. = \" + str(getval(grb, 0.5, 0.)))\n",
        "    print(\"data at lat 0. and long 0.5 = \" + str(getval(grb, 0., 0.5)))\n",
        "    print(\"data at lat 0.5 and long 0.5 = \" + str(getval(grb, 0.5, 0.5)))\n",
        "    print(\"data at lat 0.25 and long 0.25 = \" + str(getval(grb, 0.25, 0.25)))\n",
        "    print(\"data at lat -7.52 and long 42.42 = \" + str(getval(grb, -7.52, 42.42)))\n",
        "    print(\"data at lat -63.0 and long -79.0 = \" + str(getval(grb, -63.0, -79.0)))\n",
        "    print(\"data at lat 12.0 and long 165.5 = \" + str(getval(grb, 12.0, 165.5)))"
      ],
      "metadata": {
        "id": "3LcptnBd1k3a"
      },
      "execution_count": null,
      "outputs": []
    },
    {
      "cell_type": "code",
      "source": [
        "import pygrib\n",
        "import pandas as pd\n",
        "import numpy as np\n",
        "from matplotlib import pyplot as plt\n",
        "from mpl_toolkits.basemap import Basemap\n",
        "\n",
        "\n",
        "print(\"\\n8/ Testing 2D plot : \")\n",
        "\n",
        "with pygrib.open(chemin_fichier_grib2) as grbs:\n",
        "\n",
        "    u10_grb = grbs.select(name='10 metre U wind component', forecastTime = 0)[0]\n",
        "    v10_grb = grbs.select(name='10 metre V wind component',  forecastTime = 0)[0]\n",
        "    p0_grb = grbs.select(name='Pressure reduced to MSL', forecastTime = 0)[0]\n",
        "    u10 = u10_grb.values\n",
        "    v10 = v10_grb.values\n",
        "    p0 = p0_grb.values\n",
        "    lats, lons = u10_grb.latlons()\n",
        "\n",
        "    fig = plt.figure(figsize=(15,40))\n",
        "    plt.title('Vent à 10 mètres et Pression à 0 mètre : %s' % u10_grb.validDate)\n",
        "\n",
        "    m = Basemap(llcrnrlon=lons.min(), llcrnrlat=lats.min(), urcrnrlon=lons.max(), urcrnrlat=lats.max())\n",
        "    m.drawcoastlines()\n",
        "    m.drawcountries()\n",
        "    m.drawmeridians(np.arange(0, 360, 20), labels=[0, 0, 0, 1])\n",
        "    m.drawparallels(np.arange(-90, 90, 20), labels=[1, 0, 0, 0])\n",
        "    skip = 5\n",
        "    cs = m.contourf(lons, lats, p0)\n",
        "    cbar = m.colorbar(cs)\n",
        "    cbar.set_label(r'Pression (Pa)')\n",
        "    qv = m.quiver(lons[::skip, ::skip], lats[::skip, ::skip], u10[::skip, ::skip], v10[::skip, ::skip])"
      ],
      "metadata": {
        "id": "5To4HREj3Hgz"
      },
      "execution_count": null,
      "outputs": []
    }
  ]
}